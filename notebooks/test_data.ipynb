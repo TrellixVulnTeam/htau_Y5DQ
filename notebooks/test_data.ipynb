{
 "cells": [
  {
   "cell_type": "markdown",
   "metadata": {},
   "source": [
    "## Module Test: ``htau.data``"
   ]
  },
  {
   "cell_type": "code",
   "execution_count": 1,
   "metadata": {},
   "outputs": [
    {
     "name": "stdout",
     "output_type": "stream",
     "text": [
      "<Logger htau (DEBUG)>\n",
      "[<StreamHandler stderr (INFO)>]\n",
      "/Users/Rui/.astropy/cache/htau\n"
     ]
    }
   ],
   "source": [
    "from pprint import pformat\n",
    "import logging\n",
    "import htau\n",
    "\n",
    "print(logging.getLogger('htau'))\n",
    "print(logging.getLogger('htau').handlers)\n",
    "print(htau.cache_location)"
   ]
  },
  {
   "cell_type": "code",
   "execution_count": 2,
   "metadata": {},
   "outputs": [
    {
     "name": "stderr",
     "output_type": "stream",
     "text": [
      "cache_exist: True\n"
     ]
    }
   ],
   "source": [
    "from htau.data import download_meudon_uvdata\n",
    "download_meudon_uvdata()"
   ]
  },
  {
   "cell_type": "code",
   "execution_count": 3,
   "metadata": {},
   "outputs": [
    {
     "name": "stdout",
     "output_type": "stream",
     "text": [
      "-rw-r--r--  1 Rui  staff    60373 Feb 25 06:50 /Users/Rui/.astropy/cache/htau/meudon_uvdata/uvhd.dat\n",
      "-rw-r--r--  1 Rui  staff     8961 Feb 25 06:50 /Users/Rui/.astropy/cache/htau/meudon_uvdata/uvh_new.dat\n",
      "-rw-r--r--  1 Rui  staff   654965 Feb 25 06:50 /Users/Rui/.astropy/cache/htau/meudon_uvdata/uvh2c29.dat\n",
      "-rw-r--r--  1 Rui  staff  1482201 Feb 25 06:50 /Users/Rui/.astropy/cache/htau/meudon_uvdata/uvh2b29.dat\n",
      "-rw-r--r--  1 Rui  staff      636 Feb 25 06:50 /Users/Rui/.astropy/cache/htau/meudon_uvdata/uvd.dat\n",
      "-rw-r--r--  1 Rui  staff  9698565 Feb 25 06:50 /Users/Rui/.astropy/cache/htau/meudon_uvdata/line_co_A.dat\n",
      "-rw-r--r--  1 Rui  staff    93203 Feb 25 06:50 /Users/Rui/.astropy/cache/htau/meudon_uvdata/level_co_A.dat\n",
      "-rw-r--r--  1 Rui  staff    48103 Feb 25 06:50 /Users/Rui/.astropy/cache/htau/meudon_uvdata/full_lines_new.dat\n",
      "-rw-r--r--  1 Rui  staff    57307 Feb 25 06:50 /Users/Rui/.astropy/cache/htau/meudon_uvdata/full_lines.dat\n",
      "-rw-r--r--  1 Rui  staff   169893 Feb 25 06:50 /Users/Rui/.astropy/cache/htau/meudon_uvdata/ahdnc2.dat\n",
      "-rw-r--r--  1 Rui  staff   339542 Feb 25 06:50 /Users/Rui/.astropy/cache/htau/meudon_uvdata/ahdnc1.dat\n",
      "-rw-r--r--  1 Rui  staff   968653 Feb 25 06:50 /Users/Rui/.astropy/cache/htau/meudon_uvdata/ahdnb.dat\n",
      "-rw-r--r--  1 Rui  staff   188954 Feb 25 06:50 /Users/Rui/.astropy/cache/htau/meudon_uvdata/UVCO18.NW1\n",
      "-rw-r--r--  1 Rui  staff   193778 Feb 25 06:50 /Users/Rui/.astropy/cache/htau/meudon_uvdata/UVCO.NW1\n",
      "-rw-r--r--  1 Rui  staff   193777 Feb 25 06:50 /Users/Rui/.astropy/cache/htau/meudon_uvdata/UVC13O18.NW1\n",
      "-rw-r--r--  1 Rui  staff   188954 Feb 25 06:50 /Users/Rui/.astropy/cache/htau/meudon_uvdata/UVC13O.NW1\n"
     ]
    }
   ],
   "source": [
    "!ls -lrtd ~/.astropy/cache/htau/*/*"
   ]
  },
  {
   "cell_type": "code",
   "execution_count": 4,
   "metadata": {},
   "outputs": [
    {
     "name": "stdout",
     "output_type": "stream",
     "text": [
      "/Users/Rui/.astropy/cache/htau/meudon_uvdata/uvh2b29.dat\n",
      "/Users/Rui/.astropy/cache/htau/meudon_uvdata/uvh2c29.dat\n"
     ]
    },
    {
     "data": {
      "text/html": [
       "<i>Table length=29276</i>\n",
       "<table id=\"table4782710352\" class=\"table-striped table-bordered table-condensed\">\n",
       "<thead><tr><th>index</th><th>eu</th><th>vl</th><th>jl</th><th>vu</th><th>jd</th><th>f</th><th>wrest</th><th>gamma</th><th>ds_prob</th><th>mol</th><th>Ref</th></tr></thead>\n",
       "<thead><tr><th></th><th></th><th></th><th></th><th></th><th></th><th></th><th>Angstrom</th><th>1 / s</th><th></th><th></th><th></th></tr></thead>\n",
       "<thead><tr><th>int64</th><th>int64</th><th>int64</th><th>int64</th><th>int64</th><th>int64</th><th>float64</th><th>float64</th><th>float64</th><th>float64</th><th>str2</th><th>str16</th></tr></thead>\n",
       "<tr><td>1</td><td>2</td><td>0</td><td>0</td><td>0</td><td>1</td><td>0.001665</td><td>1108.127</td><td>1863000000.0</td><td>4.309e-09</td><td>H2</td><td>Abgrall93-Meudon</td></tr>\n",
       "<tr><td>2</td><td>2</td><td>0</td><td>1</td><td>0</td><td>-1</td><td>0.0005739</td><td>1110.062</td><td>1865000000.0</td><td>3.901e-09</td><td>H2</td><td>Abgrall93-Meudon</td></tr>\n",
       "<tr><td>3</td><td>2</td><td>0</td><td>1</td><td>0</td><td>1</td><td>0.001077</td><td>1108.633</td><td>1858000000.0</td><td>5.158e-09</td><td>H2</td><td>Abgrall93-Meudon</td></tr>\n",
       "<tr><td>4</td><td>2</td><td>0</td><td>2</td><td>0</td><td>-1</td><td>0.0006914</td><td>1112.495</td><td>1863000000.0</td><td>4.309e-09</td><td>H2</td><td>Abgrall93-Meudon</td></tr>\n",
       "<tr><td>5</td><td>2</td><td>0</td><td>2</td><td>0</td><td>1</td><td>0.0009322</td><td>1110.119</td><td>1851000000.0</td><td>7.687e-09</td><td>H2</td><td>Abgrall93-Meudon</td></tr>\n",
       "<tr><td>6</td><td>2</td><td>0</td><td>3</td><td>0</td><td>-1</td><td>0.0007381</td><td>1115.895</td><td>1858000000.0</td><td>5.158e-09</td><td>H2</td><td>Abgrall93-Meudon</td></tr>\n",
       "<tr><td>7</td><td>2</td><td>0</td><td>3</td><td>0</td><td>1</td><td>0.0008468</td><td>1112.583</td><td>1842000000.0</td><td>8.648e-09</td><td>H2</td><td>Abgrall93-Meudon</td></tr>\n",
       "<tr><td>8</td><td>2</td><td>0</td><td>4</td><td>0</td><td>-1</td><td>0.0007559</td><td>1120.247</td><td>1851000000.0</td><td>7.687e-09</td><td>H2</td><td>Abgrall93-Meudon</td></tr>\n",
       "<tr><td>9</td><td>2</td><td>0</td><td>4</td><td>0</td><td>1</td><td>0.000778</td><td>1116.012</td><td>1830000000.0</td><td>1.168e-08</td><td>H2</td><td>Abgrall93-Meudon</td></tr>\n",
       "<tr><td>...</td><td>...</td><td>...</td><td>...</td><td>...</td><td>...</td><td>...</td><td>...</td><td>...</td><td>...</td><td>...</td><td>...</td></tr>\n",
       "<tr><td>12484</td><td>3</td><td>13</td><td>1</td><td>13</td><td>0</td><td>0.001501</td><td>1205.298</td><td>1158000000.0</td><td>0.8103</td><td>H2</td><td>Abgrall93-Meudon</td></tr>\n",
       "<tr><td>12484</td><td>3</td><td>13</td><td>2</td><td>13</td><td>-1</td><td>0.0003625</td><td>1206.172</td><td>1126000000.0</td><td>0.8141</td><td>H2</td><td>Abgrall93-Meudon</td></tr>\n",
       "<tr><td>12486</td><td>3</td><td>13</td><td>2</td><td>13</td><td>0</td><td>0.00138</td><td>1205.816</td><td>1162000000.0</td><td>0.7868</td><td>H2</td><td>Abgrall93-Meudon</td></tr>\n",
       "<tr><td>12486</td><td>3</td><td>13</td><td>3</td><td>13</td><td>-1</td><td>0.0002799</td><td>1207.09</td><td>1142000000.0</td><td>0.8047</td><td>H2</td><td>Abgrall93-Meudon</td></tr>\n",
       "<tr><td>12541</td><td>3</td><td>14</td><td>0</td><td>13</td><td>1</td><td>0.04611</td><td>1213.938</td><td>1126000000.0</td><td>0.8141</td><td>H2</td><td>Abgrall93-Meudon</td></tr>\n",
       "<tr><td>12543</td><td>3</td><td>14</td><td>1</td><td>13</td><td>1</td><td>0.02131</td><td>1213.818</td><td>1142000000.0</td><td>0.8047</td><td>H2</td><td>Abgrall93-Meudon</td></tr>\n",
       "<tr><td>12544</td><td>3</td><td>14</td><td>1</td><td>13</td><td>0</td><td>0.02906</td><td>1214.199</td><td>1158000000.0</td><td>0.8103</td><td>H2</td><td>Abgrall93-Meudon</td></tr>\n",
       "<tr><td>12544</td><td>3</td><td>14</td><td>2</td><td>13</td><td>-1</td><td>0.007538</td><td>1214.671</td><td>1126000000.0</td><td>0.8141</td><td>H2</td><td>Abgrall93-Meudon</td></tr>\n",
       "<tr><td>12546</td><td>3</td><td>14</td><td>2</td><td>13</td><td>0</td><td>0.03634</td><td>1214.311</td><td>1162000000.0</td><td>0.7868</td><td>H2</td><td>Abgrall93-Meudon</td></tr>\n",
       "<tr><td>12546</td><td>3</td><td>14</td><td>3</td><td>13</td><td>-1</td><td>0.01472</td><td>1214.96</td><td>1142000000.0</td><td>0.8047</td><td>H2</td><td>Abgrall93-Meudon</td></tr>\n",
       "</table>"
      ],
      "text/plain": [
       "<Table length=29276>\n",
       "index   eu    vl    jl    vu  ...    gamma      ds_prob  mol        Ref       \n",
       "                              ...    1 / s                                    \n",
       "int64 int64 int64 int64 int64 ...   float64     float64  str2      str16      \n",
       "----- ----- ----- ----- ----- ... ------------ --------- ---- ----------------\n",
       "    1     2     0     0     0 ... 1863000000.0 4.309e-09   H2 Abgrall93-Meudon\n",
       "    2     2     0     1     0 ... 1865000000.0 3.901e-09   H2 Abgrall93-Meudon\n",
       "    3     2     0     1     0 ... 1858000000.0 5.158e-09   H2 Abgrall93-Meudon\n",
       "    4     2     0     2     0 ... 1863000000.0 4.309e-09   H2 Abgrall93-Meudon\n",
       "    5     2     0     2     0 ... 1851000000.0 7.687e-09   H2 Abgrall93-Meudon\n",
       "    6     2     0     3     0 ... 1858000000.0 5.158e-09   H2 Abgrall93-Meudon\n",
       "    7     2     0     3     0 ... 1842000000.0 8.648e-09   H2 Abgrall93-Meudon\n",
       "    8     2     0     4     0 ... 1851000000.0 7.687e-09   H2 Abgrall93-Meudon\n",
       "    9     2     0     4     0 ... 1830000000.0 1.168e-08   H2 Abgrall93-Meudon\n",
       "  ...   ...   ...   ...   ... ...          ...       ...  ...              ...\n",
       "12484     3    13     1    13 ... 1158000000.0    0.8103   H2 Abgrall93-Meudon\n",
       "12484     3    13     2    13 ... 1126000000.0    0.8141   H2 Abgrall93-Meudon\n",
       "12486     3    13     2    13 ... 1162000000.0    0.7868   H2 Abgrall93-Meudon\n",
       "12486     3    13     3    13 ... 1142000000.0    0.8047   H2 Abgrall93-Meudon\n",
       "12541     3    14     0    13 ... 1126000000.0    0.8141   H2 Abgrall93-Meudon\n",
       "12543     3    14     1    13 ... 1142000000.0    0.8047   H2 Abgrall93-Meudon\n",
       "12544     3    14     1    13 ... 1158000000.0    0.8103   H2 Abgrall93-Meudon\n",
       "12544     3    14     2    13 ... 1126000000.0    0.8141   H2 Abgrall93-Meudon\n",
       "12546     3    14     2    13 ... 1162000000.0    0.7868   H2 Abgrall93-Meudon\n",
       "12546     3    14     3    13 ... 1142000000.0    0.8047   H2 Abgrall93-Meudon"
      ]
     },
     "execution_count": 4,
     "metadata": {},
     "output_type": "execute_result"
    }
   ],
   "source": [
    "from htau.data import read_H2data, read_HDdata\n",
    "read_H2data()"
   ]
  },
  {
   "cell_type": "code",
   "execution_count": 5,
   "metadata": {},
   "outputs": [
    {
     "data": {
      "text/html": [
       "<i>Table length=686</i>\n",
       "<table id=\"table4782707904\" class=\"table-striped table-bordered table-condensed\">\n",
       "<thead><tr><th>eu</th><th>vl</th><th>jl</th><th>vu</th><th>jd</th><th>f</th><th>wrest</th><th>dummy1</th><th>gamma</th><th>dprob</th><th>mol</th><th>Ref</th></tr></thead>\n",
       "<thead><tr><th></th><th></th><th></th><th></th><th></th><th></th><th>Angstrom</th><th></th><th>1 / s</th><th></th><th></th><th></th></tr></thead>\n",
       "<thead><tr><th>int64</th><th>int64</th><th>int64</th><th>int64</th><th>int64</th><th>float64</th><th>float64</th><th>float64</th><th>float64</th><th>float64</th><th>str2</th><th>str16</th></tr></thead>\n",
       "<tr><td>2</td><td>0</td><td>0</td><td>0</td><td>1</td><td>0.0007587</td><td>1105.825</td><td>90430.24</td><td>1876000000.0</td><td>1.302e-06</td><td>HD</td><td>Abgrall93-Meudon</td></tr>\n",
       "<tr><td>2</td><td>0</td><td>1</td><td>0</td><td>1</td><td>0.0002666</td><td>1107.277</td><td>90311.66</td><td>1878000000.0</td><td>1.733e-06</td><td>HD</td><td>Abgrall93-Meudon</td></tr>\n",
       "<tr><td>2</td><td>0</td><td>1</td><td>0</td><td>1</td><td>0.0004864</td><td>1106.201</td><td>90399.48</td><td>1873000000.0</td><td>1.181e-06</td><td>HD</td><td>Abgrall93-Meudon</td></tr>\n",
       "<tr><td>2</td><td>0</td><td>2</td><td>0</td><td>1</td><td>0.0003243</td><td>1109.101</td><td>90163.12</td><td>1876000000.0</td><td>1.302e-06</td><td>HD</td><td>Abgrall93-Meudon</td></tr>\n",
       "<tr><td>2</td><td>0</td><td>2</td><td>0</td><td>1</td><td>0.0004174</td><td>1107.312</td><td>90308.78</td><td>1868000000.0</td><td>1.188e-06</td><td>HD</td><td>Abgrall93-Meudon</td></tr>\n",
       "<tr><td>2</td><td>0</td><td>3</td><td>0</td><td>1</td><td>0.0003495</td><td>1111.65</td><td>89956.39</td><td>1873000000.0</td><td>1.181e-06</td><td>HD</td><td>Abgrall93-Meudon</td></tr>\n",
       "<tr><td>2</td><td>0</td><td>3</td><td>0</td><td>1</td><td>0.0003764</td><td>1109.154</td><td>90158.84</td><td>1861000000.0</td><td>1.297e-06</td><td>HD</td><td>Abgrall93-Meudon</td></tr>\n",
       "<tr><td>2</td><td>0</td><td>4</td><td>0</td><td>1</td><td>0.0003614</td><td>1114.919</td><td>89692.6</td><td>1868000000.0</td><td>1.188e-06</td><td>HD</td><td>Abgrall93-Meudon</td></tr>\n",
       "<tr><td>2</td><td>0</td><td>4</td><td>0</td><td>1</td><td>0.0003436</td><td>1111.724</td><td>89950.4</td><td>1852000000.0</td><td>1.183e-06</td><td>HD</td><td>Abgrall93-Meudon</td></tr>\n",
       "<tr><td>...</td><td>...</td><td>...</td><td>...</td><td>...</td><td>...</td><td>...</td><td>...</td><td>...</td><td>...</td><td>...</td><td>...</td></tr>\n",
       "<tr><td>3</td><td>0</td><td>7</td><td>7</td><td>0</td><td>0.003293</td><td>911.5094</td><td>109708.14</td><td>231400000.0</td><td>0.0004259</td><td>HD</td><td>Abgrall93-Meudon</td></tr>\n",
       "<tr><td>3</td><td>0</td><td>8</td><td>7</td><td>0</td><td>0.003278</td><td>915.0792</td><td>109280.16</td><td>227400000.0</td><td>0.0007643</td><td>HD</td><td>Abgrall93-Meudon</td></tr>\n",
       "<tr><td>3</td><td>0</td><td>8</td><td>7</td><td>1</td><td>0.002451</td><td>912.8505</td><td>109546.97</td><td>237400000.0</td><td>0.002967</td><td>HD</td><td>Abgrall93-Meudon</td></tr>\n",
       "<tr><td>3</td><td>0</td><td>9</td><td>7</td><td>1</td><td>0.00156</td><td>921.2084</td><td>108553.06</td><td>222700000.0</td><td>0.001289</td><td>HD</td><td>Abgrall93-Meudon</td></tr>\n",
       "<tr><td>3</td><td>0</td><td>9</td><td>7</td><td>0</td><td>0.003268</td><td>919.066</td><td>108806.11</td><td>223200000.0</td><td>0.001881</td><td>HD</td><td>Abgrall93-Meudon</td></tr>\n",
       "<tr><td>3</td><td>0</td><td>9</td><td>7</td><td>1</td><td>0.002456</td><td>916.6977</td><td>109087.21</td><td>125400000.0</td><td>0.00783</td><td>HD</td><td>Abgrall93-Meudon</td></tr>\n",
       "<tr><td>3</td><td>0</td><td>0</td><td>7</td><td>1</td><td>0.001601</td><td>925.8601</td><td>108007.67</td><td>237400000.0</td><td>0.002967</td><td>HD</td><td>Abgrall93-Meudon</td></tr>\n",
       "<tr><td>3</td><td>0</td><td>0</td><td>7</td><td>0</td><td>0.003263</td><td>923.4618</td><td>108288.19</td><td>219500000.0</td><td>0.00679</td><td>HD</td><td>Abgrall93-Meudon</td></tr>\n",
       "<tr><td>3</td><td>0</td><td>9</td><td>8</td><td>0</td><td>0.002128</td><td>908.718</td><td>110045.14</td><td>190600000.0</td><td>0.02598</td><td>HD</td><td>Abgrall93-Meudon</td></tr>\n",
       "<tr><td>3</td><td>0</td><td>0</td><td>8</td><td>0</td><td>0.002125</td><td>913.1688</td><td>109508.78</td><td>189200000.0</td><td>0.02331</td><td>HD</td><td>Abgrall93-Meudon</td></tr>\n",
       "</table>"
      ],
      "text/plain": [
       "<Table length=686>\n",
       "  eu    vl    jl    vu    jd  ...    gamma       dprob   mol        Ref       \n",
       "                              ...    1 / s                                    \n",
       "int64 int64 int64 int64 int64 ...   float64     float64  str2      str16      \n",
       "----- ----- ----- ----- ----- ... ------------ --------- ---- ----------------\n",
       "    2     0     0     0     1 ... 1876000000.0 1.302e-06   HD Abgrall93-Meudon\n",
       "    2     0     1     0     1 ... 1878000000.0 1.733e-06   HD Abgrall93-Meudon\n",
       "    2     0     1     0     1 ... 1873000000.0 1.181e-06   HD Abgrall93-Meudon\n",
       "    2     0     2     0     1 ... 1876000000.0 1.302e-06   HD Abgrall93-Meudon\n",
       "    2     0     2     0     1 ... 1868000000.0 1.188e-06   HD Abgrall93-Meudon\n",
       "    2     0     3     0     1 ... 1873000000.0 1.181e-06   HD Abgrall93-Meudon\n",
       "    2     0     3     0     1 ... 1861000000.0 1.297e-06   HD Abgrall93-Meudon\n",
       "    2     0     4     0     1 ... 1868000000.0 1.188e-06   HD Abgrall93-Meudon\n",
       "    2     0     4     0     1 ... 1852000000.0 1.183e-06   HD Abgrall93-Meudon\n",
       "  ...   ...   ...   ...   ... ...          ...       ...  ...              ...\n",
       "    3     0     7     7     0 ...  231400000.0 0.0004259   HD Abgrall93-Meudon\n",
       "    3     0     8     7     0 ...  227400000.0 0.0007643   HD Abgrall93-Meudon\n",
       "    3     0     8     7     1 ...  237400000.0  0.002967   HD Abgrall93-Meudon\n",
       "    3     0     9     7     1 ...  222700000.0  0.001289   HD Abgrall93-Meudon\n",
       "    3     0     9     7     0 ...  223200000.0  0.001881   HD Abgrall93-Meudon\n",
       "    3     0     9     7     1 ...  125400000.0   0.00783   HD Abgrall93-Meudon\n",
       "    3     0     0     7     1 ...  237400000.0  0.002967   HD Abgrall93-Meudon\n",
       "    3     0     0     7     0 ...  219500000.0   0.00679   HD Abgrall93-Meudon\n",
       "    3     0     9     8     0 ...  190600000.0   0.02598   HD Abgrall93-Meudon\n",
       "    3     0     0     8     0 ...  189200000.0   0.02331   HD Abgrall93-Meudon"
      ]
     },
     "execution_count": 5,
     "metadata": {},
     "output_type": "execute_result"
    }
   ],
   "source": [
    "read_HDdata()"
   ]
  },
  {
   "cell_type": "markdown",
   "metadata": {},
   "source": [
    "## Playground: ``htau.data``"
   ]
  },
  {
   "cell_type": "markdown",
   "metadata": {},
   "source": [
    "### NIST"
   ]
  },
  {
   "cell_type": "code",
   "execution_count": 6,
   "metadata": {},
   "outputs": [
    {
     "name": "stdout",
     "output_type": "stream",
     "text": [
      " Observed      Ritz      Transition  Rel.      Aki       fik    Acc.          Ei           Ek              Lower level         Upper level     Type   TP   Line \n",
      "--------- -------------- ---------- ------ ----------- -------- ---- --------------------------------- ------------------- ------------------- ---- ----- ------\n",
      " 1025.728  1025.72182505    97491.7     -- 167250000.0 0.052761  AAA 0.00000000000000  -   12.08750700 1s     | 2S   | 1/2 3p     | 2P*  | 3/2   -- T8637  L3545\n",
      " 1025.728       1025.722    97491.7 250000  55751000.0 0.079142  AAA  0.00000000000000  -   12.0875051 1s     | 2S   | 1/2     3      |      |   -- T8637  L3545\n",
      " 1025.728  1025.72296565    97491.7     -- 167250000.0 0.026381  AAA 0.00000000000000  -   12.08749356 1s     | 2S   | 1/2 3p     | 2P*  | 1/2   -- T8637  L3545\n",
      "1215.6699  1215.66823731   82259.17     -- 626480000.0   0.2776  AAA 0.00000000000000  -   10.19885143 1s     | 2S   | 1/2 2p     | 2P*  | 3/2   -- T8637 L12020\n",
      "1215.6699 1215.673644608   82259.17     -- 626490000.0  0.13881  AAA 0.00000000000000  -   10.19880606 1s     | 2S   | 1/2 2p     | 2P*  | 1/2   -- T8637 L12020\n",
      "1215.6701      1215.6701   82259.16 840000 469860000.0  0.41641  AAA  0.00000000000000  -   10.1988357 1s     | 2S   | 1/2     2      |      |   -- T8637 L12020\n"
     ]
    }
   ],
   "source": [
    "from astroquery.nist import Nist\n",
    "import astropy.units as u\n",
    "import numpy as np\n",
    "table = Nist.query(1010 * u.AA, 1220 * u.AA, linename=\"H I\")\n",
    "table=table[table['Type'].recordmask]\n",
    "#table\n",
    "table.pprint_all()\n",
    "#print(table['Type'][-7])\n",
    "#x=table['Type'][-6]\n",
    "#type(x)\n",
    "#print(x)\n",
    "#up_state=table['Upper level']\n",
    "#is_finestruct=[state.split(\"|\")[0].strip().isdigit() for state in up_state]\n",
    "#table[is_finestruct].pprint_all()"
   ]
  },
  {
   "cell_type": "markdown",
   "metadata": {},
   "source": [
    "### AtomicLineList"
   ]
  },
  {
   "cell_type": "code",
   "execution_count": 10,
   "metadata": {},
   "outputs": [
    {
     "data": {
      "text/html": [
       "<i>Table length=3</i>\n",
       "<table id=\"table4779034272\" class=\"table-striped table-bordered table-condensed\">\n",
       "<thead><tr><th>LAMBDA VAC ANG</th><th>SPECTRUM</th><th>TT</th><th>CONFIGURATION</th><th>TERM</th><th>J J</th><th>A_ki</th><th>LEVEL ENERGY  CM 1</th></tr></thead>\n",
       "<thead><tr><th>float64</th><th>str3</th><th>str2</th><th>str5</th><th>str3</th><th>str5</th><th>float64</th><th>str18</th></tr></thead>\n",
       "<tr><td>972.53674</td><td>H I</td><td>E1</td><td>1*-4*</td><td>1-4</td><td>1/2-*</td><td>12800000.0</td><td>0.00 -   102823.90</td></tr>\n",
       "<tr><td>1025.7222</td><td>H I</td><td>E1</td><td>1*-3*</td><td>1-3</td><td>1/2-*</td><td>55700000.0</td><td>0.00 -    97492.31</td></tr>\n",
       "<tr><td>1215.67</td><td>H I</td><td>E1</td><td>1*-2*</td><td>1-2</td><td>1/2-*</td><td>469000000.0</td><td>0.00 -    82259.11</td></tr>\n",
       "</table>"
      ],
      "text/plain": [
       "<Table length=3>\n",
       "LAMBDA VAC ANG SPECTRUM  TT  ...  J J      A_ki    LEVEL ENERGY  CM 1\n",
       "   float64       str3   str2 ...  str5   float64         str18       \n",
       "-------------- -------- ---- ... ----- ----------- ------------------\n",
       "     972.53674      H I   E1 ... 1/2-*  12800000.0 0.00 -   102823.90\n",
       "     1025.7222      H I   E1 ... 1/2-*  55700000.0 0.00 -    97492.31\n",
       "       1215.67      H I   E1 ... 1/2-* 469000000.0 0.00 -    82259.11"
      ]
     },
     "execution_count": 10,
     "metadata": {},
     "output_type": "execute_result"
    }
   ],
   "source": [
    "from astropy import units as u\n",
    "from astroquery.atomic import AtomicLineList\n",
    "wavelength_range = (950 * u.AA, 1250*u.AA)\n",
    "AtomicLineList.query_object(wavelength_range, wavelength_type='Air', wavelength_accuracy=20, element_spectrum='H I')"
   ]
  },
  {
   "cell_type": "markdown",
   "metadata": {},
   "source": [
    "### Linetools"
   ]
  },
  {
   "cell_type": "code",
   "execution_count": 8,
   "metadata": {},
   "outputs": [
    {
     "name": "stdout",
     "output_type": "stream",
     "text": [
      "read_sets: Using set file -- \n",
      "  /Users/Rui/Library/Python/3.8/lib/python/site-packages/linetools/lists/sets/llist_v1.3.ascii\n",
      "Loading abundances from Asplund2009\n",
      "Abundances are relative by number on a logarithmic scale with H=12\n",
      "     A       el  nj  nk group   name      Ek         f        wrest      Ref     mol   Ej    Am ion   Ex    Jj  Jk  Z   gk  gj    gamma     Id\n",
      "   1 / s                                1 / cm               Angstrom                1 / cm         1 / cm                        1 / s       \n",
      "----------- --- --- --- ----- ------- ---------- ---------- --------- ---------- --- ------ --- --- ------ --- --- --- --- --- ----------- ---\n",
      "   140500.0   0   0   0     1 HI 912d   9564.643 5.2640e-05  912.7032 Morton2003  --    0.0   0   1    0.0 0.0 0.0   1   6   2    140500.0   0\n",
      "   155100.0   0   0   0     1 HI 912e   9556.907 5.8120e-05  912.7676 Morton2003  --    0.0   0   1    0.0 0.0 0.0   1   6   2    155100.0   1\n",
      "   171700.0   0   0   0     1 HI 912f   9548.358 6.4350e-05  912.8389 Morton2003  --    0.0   0   1    0.0 0.0 0.0   1   6   2    171700.0   2\n",
      "   190700.0   0   0   0     1 HI 912g   9538.877 7.1480e-05  912.9179 Morton2003  --    0.0   0   1    0.0 0.0 0.0   1   6   2    190700.0   3\n",
      "   212800.0   0   0   0     1 HI 913a   9528.322 7.9780e-05  913.0059 Morton2003  --    0.0   0   1    0.0 0.0 0.0   1   6   2    212800.0   4\n",
      "   238300.0   0   0   0     1 HI 913b   9516.526 8.9360e-05  913.1042 Morton2003  --    0.0   0   1    0.0 0.0 0.0   1   6   2    238300.0   5\n",
      "   268100.0   0   0   0     1 HI 913c   9503.287 1.0060e-04  913.2146 Morton2003  --    0.0   0   1    0.0 0.0 0.0   1   6   2    268100.0   6\n",
      "   303100.0   0   0   0     1 HI 913d   9488.359 1.1370e-04  913.3391 Morton2003  --    0.0   0   1    0.0 0.0 0.0   1   6   2    303100.0   7\n",
      "   344400.0   0   0   0     1 HI 913e   9471.441 1.2930e-04  913.4803 Morton2003  --    0.0   0   1    0.0 0.0 0.0   1   6   2    344400.0   8\n",
      "   393300.0   0   0   0     1 HI 913f   9452.165 1.4770e-04  913.6411 Morton2003  --    0.0   0   1    0.0 0.0 0.0   1   6   2    393300.0   9\n",
      "   452300.0   0   0   0     1 HI 913g   9430.069 1.6990e-04  913.8256 Morton2003  --    0.0   0   1    0.0 0.0 0.0   1   6   2    452300.0  10\n",
      "   523700.0   0   0   0     1 HI 914a  9404.5773 1.9680e-04  914.0385 Morton2003  --    0.0   0   1    0.0 0.0 0.0   1   6   2    523700.0  11\n",
      "   610900.0   0   0   0     1 HI 914b  9374.9552 2.2970e-04  914.2861 Morton2003  --    0.0   0   1    0.0 0.0 0.0   1   6   2    610900.0  12\n",
      "   718600.0   0   0   0     1 HI 914c    9340.26 2.7030e-04  914.5762 Morton2003  --    0.0   0   1    0.0 0.0 0.0   1   6   2    718600.0  13\n",
      "   853300.0   0   0   0     1 HI 914d  9299.2637 3.2120e-04  914.9192 Morton2003  --    0.0   0   1    0.0 0.0 0.0   1   6   2    853300.0  14\n",
      "  1024000.0   0   0   0     1 HI 915a  9250.3428 3.8580e-04  915.3289 Morton2003  --    0.0   0   1    0.0 0.0 0.0   1   6   2   1024000.0  15\n",
      "  1243000.0   0   0   0     1 HI 915b  9191.3147 4.6890e-04  915.8238 Morton2003  --    0.0   0   1    0.0 0.0 0.0   1   6   2   1243000.0  16\n",
      "  1529000.0   0   0   0     1  HI 916  9119.1909 5.7770e-04  916.4291 Morton2003  --    0.0   0   1    0.0 0.0 0.0   1   6   2   1529000.0  17\n",
      "  1911000.0   0   0   0     1  HI 917  9029.7903 7.2310e-04  917.1805 Morton2003  --    0.0   0   1    0.0 0.0 0.0   1   6   2   1911000.0  18\n",
      "  2432000.0   0   0   0     1  HI 918  8917.1197 9.2190e-04  918.1293 Morton2003  --    0.0   0   1    0.0 0.0 0.0   1   6   2   2432000.0  19\n",
      "  3160000.0   0   0   0     1  HI 919  8772.3428 1.2010e-03  919.3513 Morton2003  --    0.0   0   1    0.0 0.0 0.0   1   6   2   3160000.0  20\n",
      "  4210000.0   0   0   0     1  HI 920  8581.9924 1.6060e-03  920.9630 Morton2003  --    0.0   0   1    0.0 0.0 0.0   1   6   2   4210000.0  21\n",
      "  5785000.0   0   0   0     1  HI 923  8324.7228 2.2170e-03  923.1503 Morton2003  --    0.0   0   1    0.0 0.0 0.0   1   6   2   5785000.0  22\n",
      "  8255000.0   0   0   0     1  HI 926  7965.0529 3.1850e-03  926.2256 Morton2003  --    0.0   0   1    0.0 0.0 0.0   1   6   2   8255000.0  23\n",
      " 12360000.0   0   0   0     1  HI 930  7440.4442 4.8160e-03  930.7482 Morton2003  --    0.0   0   1    0.0 0.0 0.0   1   6   2  12360000.0  24\n",
      " 19730000.0   0   0   0     1  HI 937  6632.1575 7.8030e-03  937.8034 Morton2003  --    0.0   0   1    0.0 0.0 0.0   1   6   2  24500000.0  25\n",
      " 34370000.0   0   0   0     1  HI 949  5291.6442 1.3950e-02  949.7430 Morton2003  --    0.0   0   1    0.0 0.0 0.0   1   6   2  42040000.0  26\n",
      " 68190000.0   0   0   0     1  HI 972   2823.879 2.9010e-02  972.5367 Morton2003  --    0.0   0   1    0.0 0.0 0.0   1   6   2  81270000.0  27\n",
      "167300000.0   0   0   0     1 HI 1025 7492.28344 7.9140e-02 1025.7222 Morton2003  --    0.0   0   1    0.0 0.0 0.0   1   6   2 189700000.0  28\n",
      "626500000.0   0   0   0     1 HI 1215   2259.163 4.1640e-01 1215.6700 Morton2003  --    0.0   0   1    0.0 0.0 0.0   1   6   2 626500000.0  29\n"
     ]
    },
    {
     "data": {
      "text/plain": [
       "30"
      ]
     },
     "execution_count": 8,
     "metadata": {},
     "output_type": "execute_result"
    }
   ],
   "source": [
    "from linetools.lists.linelist import LineList\n",
    "hi=LineList('HI')\n",
    "hi.all_transitions('HI').pprint_all()\n",
    "len(hi.all_transitions('HI'))"
   ]
  }
 ],
 "metadata": {
  "kernelspec": {
   "display_name": "Python 3",
   "language": "python",
   "name": "python3"
  },
  "language_info": {
   "codemirror_mode": {
    "name": "ipython",
    "version": 3
   },
   "file_extension": ".py",
   "mimetype": "text/x-python",
   "name": "python",
   "nbconvert_exporter": "python",
   "pygments_lexer": "ipython3",
   "version": "3.8.5"
  },
  "widgets": {
   "application/vnd.jupyter.widget-state+json": {
    "state": {},
    "version_major": 2,
    "version_minor": 0
   }
  }
 },
 "nbformat": 4,
 "nbformat_minor": 4
}
